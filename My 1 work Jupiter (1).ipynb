{
 "cells": [
  {
   "cell_type": "code",
   "execution_count": 2,
   "id": "428bc748",
   "metadata": {},
   "outputs": [
    {
     "name": "stdout",
     "output_type": "stream",
     "text": [
      "Hello Data Science\n"
     ]
    }
   ],
   "source": [
    "print(\"Hello Data Science\")"
   ]
  },
  {
   "cell_type": "code",
   "execution_count": 3,
   "id": "da05817a",
   "metadata": {},
   "outputs": [
    {
     "name": "stdout",
     "output_type": "stream",
     "text": [
      "Pooja Ravindra Ingole\n"
     ]
    }
   ],
   "source": [
    "print(\"Pooja Ravindra Ingole\")"
   ]
  },
  {
   "cell_type": "code",
   "execution_count": 5,
   "id": "4f33544b",
   "metadata": {},
   "outputs": [
    {
     "name": "stdout",
     "output_type": "stream",
     "text": [
      "Pooja Ravindra Ingole\n"
     ]
    }
   ],
   "source": [
    "print(\"Pooja Ravindra Ingole\")"
   ]
  },
  {
   "cell_type": "raw",
   "id": "7f86cd91",
   "metadata": {},
   "source": [
    "print(\"i m best\")"
   ]
  },
  {
   "cell_type": "code",
   "execution_count": 10,
   "id": "e0c1d86a",
   "metadata": {},
   "outputs": [
    {
     "name": "stdout",
     "output_type": "stream",
     "text": [
      "25\n"
     ]
    }
   ],
   "source": [
    "print(10+15)"
   ]
  },
  {
   "cell_type": "code",
   "execution_count": 14,
   "id": "e95a6a7b",
   "metadata": {},
   "outputs": [
    {
     "name": "stdout",
     "output_type": "stream",
     "text": [
      "33\n"
     ]
    }
   ],
   "source": [
    "print(11*3)"
   ]
  },
  {
   "cell_type": "code",
   "execution_count": null,
   "id": "8d1765f2",
   "metadata": {},
   "outputs": [],
   "source": []
  }
 ],
 "metadata": {
  "kernelspec": {
   "display_name": "Python 3 (ipykernel)",
   "language": "python",
   "name": "python3"
  },
  "language_info": {
   "codemirror_mode": {
    "name": "ipython",
    "version": 3
   },
   "file_extension": ".py",
   "mimetype": "text/x-python",
   "name": "python",
   "nbconvert_exporter": "python",
   "pygments_lexer": "ipython3",
   "version": "3.11.4"
  }
 },
 "nbformat": 4,
 "nbformat_minor": 5
}
